{
 "cells": [
  {
   "cell_type": "code",
   "execution_count": null,
   "metadata": {},
   "outputs": [
    {
     "name": "stderr",
     "output_type": "stream",
     "text": [
      "Exception in thread Thread-18:\n",
      "Traceback (most recent call last):\n",
      "  File \"C:\\Users\\User\\Anaconda3\\envs\\pythonProject\\lib\\threading.py\", line 932, in _bootstrap_inner\n",
      "    self.run()\n",
      "  File \"C:\\Users\\User\\Anaconda3\\envs\\pythonProject\\lib\\threading.py\", line 870, in run\n",
      "    self._target(*self._args, **self._kwargs)\n",
      "  File \"C:\\Users\\User\\Anaconda3\\envs\\pythonProject\\lib\\site-packages\\multitasking\\__init__.py\", line 102, in _run_via_pool\n",
      "    return callee(*args, **kwargs)\n",
      "  File \"C:\\Users\\User\\Anaconda3\\envs\\pythonProject\\lib\\site-packages\\yfinance\\multi.py\", line 166, in _download_one_threaded\n",
      "    data = _download_one(ticker, start, end, auto_adjust, back_adjust,\n",
      "  File \"C:\\Users\\User\\Anaconda3\\envs\\pythonProject\\lib\\site-packages\\yfinance\\multi.py\", line 178, in _download_one\n",
      "    return Ticker(ticker).history(period=period, interval=interval,\n",
      "  File \"C:\\Users\\User\\Anaconda3\\envs\\pythonProject\\lib\\site-packages\\yfinance\\base.py\", line 122, in history\n",
      "    _time.strptime(str(start), '%Y-%m-%d')))\n",
      "  File \"C:\\Users\\User\\Anaconda3\\envs\\pythonProject\\lib\\_strptime.py\", line 562, in _strptime_time\n",
      "    tt = _strptime(data_string, format)[0]\n",
      "  File \"C:\\Users\\User\\Anaconda3\\envs\\pythonProject\\lib\\_strptime.py\", line 349, in _strptime\n",
      "    raise ValueError(\"time data %r does not match format %r\" %\n",
      "ValueError: time data '208-12-20' does not match format '%Y-%m-%d'\n"
     ]
    }
   ],
   "source": [
    "import yfinance as yf\n",
    "import numpy as np\n",
    "import matplotlib\n",
    "\n",
    "start = '208-12-20'\n",
    "end = '2021-01-19'\n",
    "\n",
    "usdrub = yf.download('USDBYN=X', start, end, interval='1mo', progress=False)\n",
    "eurrub = yf.download('EURBYN=X', start, end, interval='1mo', progress=False)\n",
    "\n",
    "usdrub.Close.plot()\n",
    "eurrub.Close.plot()\n"
   ]
  },
  {
   "cell_type": "code",
   "execution_count": null,
   "metadata": {
    "pycharm": {
     "name": "#%%\n"
    }
   },
   "outputs": [],
   "source": []
  }
 ],
 "metadata": {
  "kernelspec": {
   "display_name": "Python 3",
   "language": "python",
   "name": "python3"
  },
  "language_info": {
   "codemirror_mode": {
    "name": "ipython",
    "version": 3
   },
   "file_extension": ".py",
   "mimetype": "text/x-python",
   "name": "python",
   "nbconvert_exporter": "python",
   "pygments_lexer": "ipython3",
   "version": "3.8.5"
  }
 },
 "nbformat": 4,
 "nbformat_minor": 1
}
